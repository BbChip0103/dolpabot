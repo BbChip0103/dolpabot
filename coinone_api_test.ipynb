{
 "cells": [
  {
   "cell_type": "markdown",
   "id": "resident-fantasy",
   "metadata": {},
   "source": [
    "# Import modules"
   ]
  },
  {
   "cell_type": "code",
   "execution_count": 63,
   "id": "discrete-horizontal",
   "metadata": {},
   "outputs": [],
   "source": [
    "import simplejson as json\n",
    "import time\n",
    "import base64\n",
    "import hashlib\n",
    "import hmac\n",
    "import requests\n",
    "from pprint import pprint\n",
    "\n",
    "import matplotlib\n",
    "import matplotlib.pyplot as plt\n",
    "import seaborn\n",
    "import numpy as np"
   ]
  },
  {
   "cell_type": "markdown",
   "id": "sought-welsh",
   "metadata": {},
   "source": [
    "# Setting"
   ]
  },
  {
   "cell_type": "code",
   "execution_count": 83,
   "id": "preceding-discipline",
   "metadata": {},
   "outputs": [],
   "source": [
    "plt.rc('font', size=18)"
   ]
  },
  {
   "cell_type": "code",
   "execution_count": 87,
   "id": "tribal-canadian",
   "metadata": {},
   "outputs": [],
   "source": [
    "with open('private/account.json') as f:\n",
    "    text = f.read()\n",
    "account_dict = json.loads(text)"
   ]
  },
  {
   "cell_type": "code",
   "execution_count": 88,
   "id": "acting-title",
   "metadata": {},
   "outputs": [],
   "source": [
    "BASE_URL = 'https://api.coinone.co.kr/'\n",
    "\n",
    "API_NAME = account_dict['API_NAME']\n",
    "API_TOKEN = account_dict['API_TOKEN']\n",
    "SECRET_KEY = account_dict['SECRET_KEY']\n",
    "VERSION = 'V2'"
   ]
  },
  {
   "cell_type": "code",
   "execution_count": 89,
   "id": "arctic-strategy",
   "metadata": {},
   "outputs": [
    {
     "data": {
      "text/plain": [
       "'dolpabot'"
      ]
     },
     "execution_count": 89,
     "metadata": {},
     "output_type": "execute_result"
    }
   ],
   "source": [
    "API_NAME"
   ]
  },
  {
   "cell_type": "code",
   "execution_count": 42,
   "id": "eastern-tomorrow",
   "metadata": {},
   "outputs": [],
   "source": [
    "target_currency = 'KLAY'"
   ]
  },
  {
   "cell_type": "markdown",
   "id": "clinical-spouse",
   "metadata": {},
   "source": [
    "# API test"
   ]
  },
  {
   "cell_type": "markdown",
   "id": "tough-bookmark",
   "metadata": {},
   "source": [
    "### Orderbook "
   ]
  },
  {
   "cell_type": "code",
   "execution_count": 52,
   "id": "green-webster",
   "metadata": {},
   "outputs": [
    {
     "name": "stdout",
     "output_type": "stream",
     "text": [
      "======== Name: klay ========\n",
      "=== Upper market price ===\n",
      "Price:4217.0, Quantity: 6237.7906\n",
      "Price:4216.0, Quantity: 2482.7961\n",
      "Price:4215.0, Quantity: 700.1357\n",
      "=== Lower market price ===\n",
      "Price:4210.0, Quantity: 9033.101\n",
      "Price:4209.0, Quantity: 237.5861\n",
      "Price:4208.0, Quantity: 1472.4189\n"
     ]
    }
   ],
   "source": [
    "orderbook_url = BASE_URL+'orderbook' \n",
    "res = requests.get(\n",
    "    orderbook_url,\n",
    "    data = {\n",
    "        'currency':target_currency\n",
    "    }\n",
    ")\n",
    "result_dict = json.loads(res.text)\n",
    "print('======== Name: {} ========'.format(result_dict['currency']))\n",
    "\n",
    "# ask: 매도, bid: 매수\n",
    "\n",
    "print('=== Upper market price ===')\n",
    "ask_list = result_dict['ask']\n",
    "# ask_list = sorted(bid_list, key=lambda x: x['price'])\n",
    "for each_ask in ask_list[:3][::-1]:\n",
    "    print('Price:{}, Quantity: {}'.format(each_ask['price'], each_ask['qty']))\n",
    "\n",
    "print('=== Lower market price ===')\n",
    "bid_list = result_dict['bid']\n",
    "# bid_list = sorted(bid_list, key=lambda x: x['price'], reverse=True)\n",
    "for each_bid in bid_list[:3]:\n",
    "    print('Price:{}, Quantity: {}'.format(each_bid['price'], each_bid['qty']))"
   ]
  },
  {
   "cell_type": "markdown",
   "id": "otherwise-headline",
   "metadata": {},
   "source": [
    "### Ticker / Ticker UTC"
   ]
  },
  {
   "cell_type": "code",
   "execution_count": 48,
   "id": "informative-correlation",
   "metadata": {},
   "outputs": [
    {
     "data": {
      "text/plain": [
       "{'result': 'success',\n",
       " 'errorCode': '0',\n",
       " 'timestamp': '1616948563',\n",
       " 'currency': 'klay',\n",
       " 'first': '3881.0',\n",
       " 'low': '3804.0',\n",
       " 'high': '4275.0',\n",
       " 'last': '4190.0',\n",
       " 'volume': '26564209.7781',\n",
       " 'yesterday_first': '3455.0',\n",
       " 'yesterday_low': '3438.0',\n",
       " 'yesterday_high': '3943.0',\n",
       " 'yesterday_last': '3880.0',\n",
       " 'yesterday_volume': '34764157.5966'}"
      ]
     },
     "execution_count": 48,
     "metadata": {},
     "output_type": "execute_result"
    }
   ],
   "source": [
    "target_url = BASE_URL+'ticker' \n",
    "res = requests.get(\n",
    "    target_url,\n",
    "    data = {\n",
    "        'currency':target_currency\n",
    "    }\n",
    ")\n",
    "result_dict = json.loads(res.text)\n",
    "result_dict"
   ]
  },
  {
   "cell_type": "code",
   "execution_count": 49,
   "id": "southern-douglas",
   "metadata": {},
   "outputs": [
    {
     "data": {
      "text/plain": [
       "{'result': 'success',\n",
       " 'errorCode': '0',\n",
       " 'timestamp': '1616948566',\n",
       " 'currency': 'klay',\n",
       " 'first': '3900.0',\n",
       " 'low': '3849.0',\n",
       " 'high': '4275.0',\n",
       " 'last': '4190.0',\n",
       " 'volume': '26564215.8781',\n",
       " 'yesterday_first': '3744.0',\n",
       " 'yesterday_low': '3574.0',\n",
       " 'yesterday_high': '3950.0',\n",
       " 'yesterday_last': '3900.0',\n",
       " 'yesterday_volume': '34764157.5966'}"
      ]
     },
     "execution_count": 49,
     "metadata": {},
     "output_type": "execute_result"
    }
   ],
   "source": [
    "target_url = BASE_URL+'ticker_utc' \n",
    "res = requests.get(\n",
    "    target_url,\n",
    "    data = {\n",
    "        'currency':target_currency\n",
    "    }\n",
    ")\n",
    "result_dict = json.loads(res.text)\n",
    "result_dict"
   ]
  },
  {
   "cell_type": "markdown",
   "id": "fifty-luxembourg",
   "metadata": {},
   "source": [
    "### Recent Complete Orders"
   ]
  },
  {
   "cell_type": "code",
   "execution_count": 56,
   "id": "posted-supplier",
   "metadata": {},
   "outputs": [
    {
     "data": {
      "text/plain": [
       "(72, 128)"
      ]
     },
     "execution_count": 56,
     "metadata": {},
     "output_type": "execute_result"
    }
   ],
   "source": [
    "target_url = BASE_URL+'trades/'\n",
    "res = requests.get(\n",
    "    target_url,\n",
    "    data = {\n",
    "        'currency':target_currency\n",
    "    }\n",
    ")\n",
    "result_dict = json.loads(res.text)\n",
    "history_list = result_dict['completeOrders']\n",
    "\n",
    "ask_list = [\n",
    "    [inform_dict['timestamp'], inform_dict['price'], inform_dict['qty']] \n",
    "        for inform_dict in history_list \n",
    "            if inform_dict['is_ask'] == '1'\n",
    "]\n",
    "bid_list = [\n",
    "    [inform_dict['timestamp'], inform_dict['price'], inform_dict['qty']] \n",
    "        for inform_dict in history_list \n",
    "            if inform_dict['is_ask'] == '0'\n",
    "]\n",
    "len(ask_list), len(bid_list)"
   ]
  },
  {
   "cell_type": "code",
   "execution_count": 71,
   "id": "healthy-photographer",
   "metadata": {},
   "outputs": [
    {
     "data": {
      "text/plain": [
       "([4178.0, 4178.0, 4178.0], [4175.0, 4175.0, 4175.0])"
      ]
     },
     "execution_count": 71,
     "metadata": {},
     "output_type": "execute_result"
    }
   ],
   "source": [
    "ask_price_list = [float(v[1]) for v in ask_list]\n",
    "bid_price_list = [float(v[1]) for v in bid_list]\n",
    "ask_price_list[:3], bid_price_list[:3]"
   ]
  },
  {
   "cell_type": "code",
   "execution_count": 85,
   "id": "false-hacker",
   "metadata": {},
   "outputs": [
    {
     "data": {
      "image/png": "[encoded data removed]",
      "text/plain": [
       "<Figure size 864x288 with 1 Axes>"
      ]
     },
     "metadata": {
      "needs_background": "light"
     },
     "output_type": "display_data"
    },
    {
     "data": {
      "image/png": "[encoded data removed]",
      "text/plain": [
       "<Figure size 864x288 with 1 Axes>"
      ]
     },
     "metadata": {
      "needs_background": "light"
     },
     "output_type": "display_data"
    }
   ],
   "source": [
    "plt.figure(figsize=(12,4))\n",
    "seaborn.barplot(\n",
    "    x=np.arange(len(ask_price_list)), y=ask_price_list,\n",
    "    \n",
    ")\n",
    "y_min, y_max = min(ask_price_list)*0.999, max(ask_price_list)*1.001\n",
    "plt.ylim(y_min, y_max)\n",
    "plt.xticks([])\n",
    "plt.ylabel('Price')\n",
    "plt.xlabel('History')\n",
    "plt.title('Ask history')\n",
    "plt.show()\n",
    "\n",
    "plt.figure(figsize=(12,4))\n",
    "seaborn.barplot(\n",
    "    x=np.arange(len(bid_price_list)), y=bid_price_list,\n",
    ")\n",
    "y_min, y_max = min(bid_price_list)*0.999, max(bid_price_list)*1.001\n",
    "plt.ylim(y_min, y_max)\n",
    "plt.xticks([])\n",
    "plt.ylabel('Price')\n",
    "plt.xlabel('History')\n",
    "plt.title('Bid history')\n",
    "plt.show()"
   ]
  },
  {
   "cell_type": "code",
   "execution_count": null,
   "id": "varied-enclosure",
   "metadata": {},
   "outputs": [],
   "source": []
  }
 ],
 "metadata": {
  "kernelspec": {
   "display_name": "Python 3",
   "language": "python",
   "name": "python3"
  },
  "language_info": {
   "codemirror_mode": {
    "name": "ipython",
    "version": 3
   },
   "file_extension": ".py",
   "mimetype": "text/x-python",
   "name": "python",
   "nbconvert_exporter": "python",
   "pygments_lexer": "ipython3",
   "version": "3.6.7"
  }
 },
 "nbformat": 4,
 "nbformat_minor": 5
}
